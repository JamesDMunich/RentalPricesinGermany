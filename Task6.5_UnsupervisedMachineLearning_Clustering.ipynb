{
 "cells": [
  {
   "cell_type": "markdown",
   "id": "656a516f",
   "metadata": {},
   "source": [
    "# Import Libraries and Data "
   ]
  },
  {
   "cell_type": "code",
   "execution_count": 1,
   "id": "00071359",
   "metadata": {},
   "outputs": [],
   "source": [
    "import pandas as pd\n",
    "import numpy as np\n",
    "import seaborn as sns\n",
    "import matplotlib\n",
    "import matplotlib.pyplot as plt\n",
    "import os\n",
    "import sklearn\n",
    "from sklearn.cluster import KMeans \n",
    "import pylab as pl "
   ]
  },
  {
   "cell_type": "code",
   "execution_count": 2,
   "id": "efbf21e2",
   "metadata": {},
   "outputs": [],
   "source": [
    "%matplotlib inline"
   ]
  },
  {
   "cell_type": "code",
   "execution_count": 3,
   "id": "09381c1e",
   "metadata": {},
   "outputs": [],
   "source": [
    "#Imported path\n",
    "path = r'/Users/james/Desktop/Task6'"
   ]
  },
  {
   "cell_type": "code",
   "execution_count": 4,
   "id": "2332e977",
   "metadata": {},
   "outputs": [
    {
     "data": {
      "text/plain": [
       "'/Users/james/Desktop/Task6'"
      ]
     },
     "execution_count": 4,
     "metadata": {},
     "output_type": "execute_result"
    }
   ],
   "source": [
    "path"
   ]
  },
  {
   "cell_type": "code",
   "execution_count": 5,
   "id": "4eb7443f",
   "metadata": {},
   "outputs": [],
   "source": [
    "df = pd.read_csv('/Users/james/Desktop/Task6/Housing.New.csv')"
   ]
  },
  {
   "cell_type": "markdown",
   "id": "92f35cae",
   "metadata": {},
   "source": [
    "# Data Check and Clean"
   ]
  },
  {
   "cell_type": "code",
   "execution_count": 6,
   "id": "02bb8e20",
   "metadata": {},
   "outputs": [
    {
     "name": "stdout",
     "output_type": "stream",
     "text": [
      "<class 'pandas.core.frame.DataFrame'>\n",
      "RangeIndex: 266383 entries, 0 to 266382\n",
      "Data columns (total 21 columns):\n",
      " #   Column             Non-Null Count   Dtype  \n",
      "---  ------             --------------   -----  \n",
      " 0   Unnamed: 0         266383 non-null  int64  \n",
      " 1   State              266383 non-null  object \n",
      " 2   City               266383 non-null  object \n",
      " 3   Postal_Code        266383 non-null  int64  \n",
      " 4   Year_Constructed   266383 non-null  float64\n",
      " 5   Total_Rent         266383 non-null  float64\n",
      " 6   Base_Rent          266383 non-null  float64\n",
      " 7   Service_Charge     266383 non-null  float64\n",
      " 8   Living_Space_(m2)  266383 non-null  float64\n",
      " 9   N_Rooms            266383 non-null  float64\n",
      " 10  Heating_Type       222093 non-null  object \n",
      " 11  Condition          198642 non-null  object \n",
      " 12  Balcony            266383 non-null  bool   \n",
      " 13  Price_Trend        266383 non-null  float64\n",
      " 14  Has_Kitchen        266383 non-null  bool   \n",
      " 15  Lift               266383 non-null  bool   \n",
      " 16  Flat_Type          230288 non-null  object \n",
      " 17  Garden             266383 non-null  bool   \n",
      " 18  Floor              266383 non-null  float64\n",
      " 19  Price_per_m2       266383 non-null  float64\n",
      " 20  Rent_range         266383 non-null  object \n",
      "dtypes: bool(4), float64(9), int64(2), object(6)\n",
      "memory usage: 35.6+ MB\n"
     ]
    }
   ],
   "source": [
    "df.info()"
   ]
  },
  {
   "cell_type": "code",
   "execution_count": 7,
   "id": "d4b61ba8",
   "metadata": {},
   "outputs": [],
   "source": [
    "#Removing unnecessary column\n",
    "df.drop(['Unnamed: 0','State', 'City', 'Postal_Code', 'Heating_Type', 'Condition', 'Has_Kitchen', 'Balcony', 'Lift', 'Flat_Type', 'Garden', 'Rent_range'], axis=1, inplace=True)"
   ]
  },
  {
   "cell_type": "code",
   "execution_count": 8,
   "id": "247f3714",
   "metadata": {},
   "outputs": [
    {
     "data": {
      "text/html": [
       "<div>\n",
       "<style scoped>\n",
       "    .dataframe tbody tr th:only-of-type {\n",
       "        vertical-align: middle;\n",
       "    }\n",
       "\n",
       "    .dataframe tbody tr th {\n",
       "        vertical-align: top;\n",
       "    }\n",
       "\n",
       "    .dataframe thead th {\n",
       "        text-align: right;\n",
       "    }\n",
       "</style>\n",
       "<table border=\"1\" class=\"dataframe\">\n",
       "  <thead>\n",
       "    <tr style=\"text-align: right;\">\n",
       "      <th></th>\n",
       "      <th>Year_Constructed</th>\n",
       "      <th>Total_Rent</th>\n",
       "      <th>Base_Rent</th>\n",
       "      <th>Service_Charge</th>\n",
       "      <th>Living_Space_(m2)</th>\n",
       "      <th>N_Rooms</th>\n",
       "      <th>Price_Trend</th>\n",
       "      <th>Floor</th>\n",
       "      <th>Price_per_m2</th>\n",
       "    </tr>\n",
       "  </thead>\n",
       "  <tbody>\n",
       "    <tr>\n",
       "      <th>0</th>\n",
       "      <td>1965.0</td>\n",
       "      <td>840.000000</td>\n",
       "      <td>595.0</td>\n",
       "      <td>245.00</td>\n",
       "      <td>86.00</td>\n",
       "      <td>4.0</td>\n",
       "      <td>4.62</td>\n",
       "      <td>1.0</td>\n",
       "      <td>6.918605</td>\n",
       "    </tr>\n",
       "    <tr>\n",
       "      <th>1</th>\n",
       "      <td>1871.0</td>\n",
       "      <td>895.331385</td>\n",
       "      <td>800.0</td>\n",
       "      <td>134.00</td>\n",
       "      <td>89.00</td>\n",
       "      <td>3.0</td>\n",
       "      <td>3.47</td>\n",
       "      <td>0.0</td>\n",
       "      <td>8.988764</td>\n",
       "    </tr>\n",
       "    <tr>\n",
       "      <th>2</th>\n",
       "      <td>2019.0</td>\n",
       "      <td>1300.000000</td>\n",
       "      <td>965.0</td>\n",
       "      <td>255.00</td>\n",
       "      <td>83.80</td>\n",
       "      <td>3.0</td>\n",
       "      <td>2.72</td>\n",
       "      <td>3.0</td>\n",
       "      <td>11.515513</td>\n",
       "    </tr>\n",
       "    <tr>\n",
       "      <th>3</th>\n",
       "      <td>1964.0</td>\n",
       "      <td>895.331385</td>\n",
       "      <td>343.0</td>\n",
       "      <td>58.15</td>\n",
       "      <td>58.15</td>\n",
       "      <td>3.0</td>\n",
       "      <td>1.53</td>\n",
       "      <td>3.0</td>\n",
       "      <td>5.898538</td>\n",
       "    </tr>\n",
       "    <tr>\n",
       "      <th>4</th>\n",
       "      <td>1950.0</td>\n",
       "      <td>903.000000</td>\n",
       "      <td>765.0</td>\n",
       "      <td>138.00</td>\n",
       "      <td>84.97</td>\n",
       "      <td>3.0</td>\n",
       "      <td>2.46</td>\n",
       "      <td>1.0</td>\n",
       "      <td>9.003178</td>\n",
       "    </tr>\n",
       "  </tbody>\n",
       "</table>\n",
       "</div>"
      ],
      "text/plain": [
       "   Year_Constructed   Total_Rent  Base_Rent  Service_Charge  \\\n",
       "0            1965.0   840.000000      595.0          245.00   \n",
       "1            1871.0   895.331385      800.0          134.00   \n",
       "2            2019.0  1300.000000      965.0          255.00   \n",
       "3            1964.0   895.331385      343.0           58.15   \n",
       "4            1950.0   903.000000      765.0          138.00   \n",
       "\n",
       "   Living_Space_(m2)  N_Rooms  Price_Trend  Floor  Price_per_m2  \n",
       "0              86.00      4.0         4.62    1.0      6.918605  \n",
       "1              89.00      3.0         3.47    0.0      8.988764  \n",
       "2              83.80      3.0         2.72    3.0     11.515513  \n",
       "3              58.15      3.0         1.53    3.0      5.898538  \n",
       "4              84.97      3.0         2.46    1.0      9.003178  "
      ]
     },
     "execution_count": 8,
     "metadata": {},
     "output_type": "execute_result"
    }
   ],
   "source": [
    "df.head()"
   ]
  },
  {
   "cell_type": "code",
   "execution_count": 9,
   "id": "d15b0d12",
   "metadata": {},
   "outputs": [
    {
     "data": {
      "text/plain": [
       "(266383, 9)"
      ]
     },
     "execution_count": 9,
     "metadata": {},
     "output_type": "execute_result"
    }
   ],
   "source": [
    "df.shape"
   ]
  },
  {
   "cell_type": "markdown",
   "id": "c8dfef71",
   "metadata": {},
   "source": [
    "# Elbow Technique "
   ]
  },
  {
   "cell_type": "code",
   "execution_count": 10,
   "id": "61b508db",
   "metadata": {},
   "outputs": [],
   "source": [
    "num_cl = range(1, 10) # Defines the range of potential clusters in the data.\n",
    "kmeans = [KMeans(n_clusters=i) for i in num_cl] # Defines k-means clusters in the range assigned above."
   ]
  },
  {
   "cell_type": "code",
   "execution_count": null,
   "id": "07f6a7aa",
   "metadata": {},
   "outputs": [
    {
     "name": "stderr",
     "output_type": "stream",
     "text": [
      "/Users/james/anaconda3/lib/python3.10/site-packages/sklearn/cluster/_kmeans.py:870: FutureWarning: The default value of `n_init` will change from 10 to 'auto' in 1.4. Set the value of `n_init` explicitly to suppress the warning\n",
      "  warnings.warn(\n"
     ]
    }
   ],
   "source": [
    "score = [kmeans[i].fit(df).score(df) for i in range(len(kmeans))] # Creates a score that represents \n",
    "# a rate of variation for the given cluster option.\n",
    "\n",
    "score"
   ]
  },
  {
   "cell_type": "code",
   "execution_count": null,
   "id": "7ae71f15",
   "metadata": {},
   "outputs": [],
   "source": [
    "# Plot the elbow curve using PyLab.\n",
    "\n",
    "pl.plot(num_cl,score)\n",
    "pl.xlabel('Number of Clusters')\n",
    "pl.ylabel('Score')\n",
    "pl.title('Elbow Curve')\n",
    "pl.show()"
   ]
  },
  {
   "cell_type": "code",
   "execution_count": null,
   "id": "c240f4f3",
   "metadata": {},
   "outputs": [],
   "source": [
    "# The significant increase observed on the x-axis at the transition from 2 to 3 suggests a noticeable change in the data. This indicates that the most suitable number of clusters is likely to be 3."
   ]
  },
  {
   "cell_type": "markdown",
   "id": "babee8bc",
   "metadata": {},
   "source": [
    "# K - Means Clustering "
   ]
  },
  {
   "cell_type": "code",
   "execution_count": null,
   "id": "5e28320b",
   "metadata": {},
   "outputs": [],
   "source": [
    "# Create the k-means object.\n",
    "\n",
    "kmeans = KMeans(n_clusters = 2) "
   ]
  },
  {
   "cell_type": "code",
   "execution_count": null,
   "id": "42934c51",
   "metadata": {},
   "outputs": [],
   "source": [
    "# Fit the k-means object to the data.\n",
    "\n",
    "kmeans.fit(df)"
   ]
  },
  {
   "cell_type": "code",
   "execution_count": null,
   "id": "2416c9db",
   "metadata": {},
   "outputs": [],
   "source": [
    "df['clusters'] = kmeans.fit_predict(df)"
   ]
  },
  {
   "cell_type": "code",
   "execution_count": null,
   "id": "80bc808b",
   "metadata": {},
   "outputs": [],
   "source": [
    "kmeans = KMeans(n_clusters=2, n_init=10)\n",
    "kmeans.fit(df)"
   ]
  },
  {
   "cell_type": "code",
   "execution_count": null,
   "id": "dfb6fe11",
   "metadata": {},
   "outputs": [],
   "source": [
    "df.head()"
   ]
  },
  {
   "cell_type": "code",
   "execution_count": null,
   "id": "45832c5d",
   "metadata": {},
   "outputs": [],
   "source": [
    "df['clusters'].value_counts()"
   ]
  },
  {
   "cell_type": "code",
   "execution_count": null,
   "id": "1fdc78c7",
   "metadata": {},
   "outputs": [],
   "source": [
    "# Plot the clusters for the \"Total_Rent\" and \"Living_Space_(m2)\" variables.\n",
    "\n",
    "plt.figure(figsize=(10, 8))\n",
    "ax = sns.scatterplot(x=df['Total_Rent'], y=df['Living_Space_(m2)'], hue=kmeans.labels_, s=50, alpha=0.7)\n",
    "ax.grid(False)\n",
    "plt.xlabel('Total_Rent')\n",
    "plt.ylabel('Living_Space_(m2)')\n",
    "plt.title('Clusters of Rental Properties')\n",
    "\n",
    "# Set the y-axis limit to a maximum of 600\n",
    "plt.ylim(0, 600)\n",
    "\n",
    "# Set the x-axis limit to 25000\n",
    "plt.xlim(0, 10000)\n",
    "\n",
    "plt.show()"
   ]
  },
  {
   "cell_type": "code",
   "execution_count": null,
   "id": "0e7dcb13",
   "metadata": {},
   "outputs": [],
   "source": [
    "# Plot the clusters for the \"Total_Rent\" and \"Year_Constructed\" variables.\n",
    "\n",
    "plt.figure(figsize=(10,8))\n",
    "ax = sns.scatterplot(x=df['Total_Rent'], y=df['Year_Constructed'], hue=kmeans.labels_, s=100)\n",
    "\n",
    "ax.grid(False) \n",
    "plt.xlabel('Total_Rent') \n",
    "plt.ylabel('Year_constructed') \n",
    "plt.show()"
   ]
  },
  {
   "cell_type": "code",
   "execution_count": null,
   "id": "74d9a9d6",
   "metadata": {},
   "outputs": [],
   "source": [
    "# Plot the clusters for the \"Total_Rent\" and \"Year_Constructed\" variables.\n",
    "\n",
    "plt.figure(figsize=(10,8))\n",
    "ax = sns.scatterplot(x=df['Total_Rent'], y=df['Base_Rent'], hue=kmeans.labels_, s=100)\n",
    "\n",
    "ax.grid(False) \n",
    "plt.xlabel('Total_Rent') \n",
    "plt.ylabel('Base_Rent') \n",
    "plt.show()"
   ]
  },
  {
   "cell_type": "code",
   "execution_count": null,
   "id": "5ac03bf2",
   "metadata": {},
   "outputs": [],
   "source": [
    "# Plot the clusters for the \"Total_Rent\" and \"Year_Constructed\" variables.\n",
    "\n",
    "plt.figure(figsize=(10,8))\n",
    "ax = sns.scatterplot(x=df['Total_Rent'], y=df['N_Rooms'], hue=kmeans.labels_, s=100)\n",
    "\n",
    "ax.grid(False) \n",
    "plt.xlabel('Total_Rent') \n",
    "plt.ylabel('N_Rooms') \n",
    "plt.show()"
   ]
  },
  {
   "cell_type": "code",
   "execution_count": null,
   "id": "e5635998",
   "metadata": {},
   "outputs": [],
   "source": [
    "# Plot the clusters for the \"Total_Rent\" and \"Year_Constructed\" variables.\n",
    "\n",
    "plt.figure(figsize=(10,8))\n",
    "ax = sns.scatterplot(x=df['Living_Space_(m2)'], y=df['Price_per_m2'], hue=kmeans.labels_, s=100)\n",
    "\n",
    "ax.grid(False) \n",
    "plt.xlabel('Living_Space_(m2)') \n",
    "plt.ylabel('Price_per_m2') \n",
    "plt.show()"
   ]
  },
  {
   "cell_type": "code",
   "execution_count": null,
   "id": "b96b8ede",
   "metadata": {},
   "outputs": [],
   "source": [
    "#df.loc[df['clusters'] == 2, 'cluster'] = 'dark purple'\n",
    "df.loc[df['clusters'] == 1, 'cluster'] = 'Blue'\n",
    "df.loc[df['clusters'] == 0, 'cluster'] = 'Orange'"
   ]
  },
  {
   "cell_type": "code",
   "execution_count": null,
   "id": "d1630899",
   "metadata": {},
   "outputs": [],
   "source": [
    "df.head()"
   ]
  },
  {
   "cell_type": "code",
   "execution_count": null,
   "id": "f4aa8300",
   "metadata": {},
   "outputs": [],
   "source": [
    "df.groupby('cluster').agg({'Total_Rent':['mean', 'median'], \n",
    "                         'Price_Trend':['mean', 'median'], \n",
    "                         'Living_Space_(m2)':['mean', 'median'],\n",
    "                           'N_Rooms':['mean', 'median'],\n",
    "                           'Service_Charge':['mean', 'median'],\n",
    "                          'Price_per_m2':['mean', 'median']})"
   ]
  },
  {
   "cell_type": "code",
   "execution_count": null,
   "id": "fd193e7e",
   "metadata": {},
   "outputs": [],
   "source": [
    "# The purple cluster stands out with superior performance across various categories. It exhibits high rental prices and demonstrates a positive price trend. Additionally, the maintenance fee associated with this cluster is notably elevated compared to others."
   ]
  },
  {
   "cell_type": "code",
   "execution_count": null,
   "id": "b02fad0b",
   "metadata": {},
   "outputs": [],
   "source": []
  },
  {
   "cell_type": "code",
   "execution_count": null,
   "id": "cab92bbb",
   "metadata": {},
   "outputs": [],
   "source": []
  },
  {
   "cell_type": "code",
   "execution_count": null,
   "id": "79efb694",
   "metadata": {},
   "outputs": [],
   "source": []
  },
  {
   "cell_type": "code",
   "execution_count": null,
   "id": "99807eb9",
   "metadata": {},
   "outputs": [],
   "source": []
  },
  {
   "cell_type": "code",
   "execution_count": null,
   "id": "ca791d32",
   "metadata": {},
   "outputs": [],
   "source": []
  }
 ],
 "metadata": {
  "kernelspec": {
   "display_name": "Python 3 (ipykernel)",
   "language": "python",
   "name": "python3"
  },
  "language_info": {
   "codemirror_mode": {
    "name": "ipython",
    "version": 3
   },
   "file_extension": ".py",
   "mimetype": "text/x-python",
   "name": "python",
   "nbconvert_exporter": "python",
   "pygments_lexer": "ipython3",
   "version": "3.10.9"
  }
 },
 "nbformat": 4,
 "nbformat_minor": 5
}
